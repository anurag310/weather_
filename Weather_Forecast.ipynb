{
 "cells": [
  {
   "cell_type": "code",
   "execution_count": 1,
   "id": "48b5aac2",
   "metadata": {},
   "outputs": [],
   "source": [
    "#from geopy.geocoders import Nominatim"
   ]
  },
  {
   "cell_type": "code",
   "execution_count": 2,
   "id": "f1981e52",
   "metadata": {},
   "outputs": [],
   "source": [
    "#import pytz"
   ]
  },
  {
   "cell_type": "code",
   "execution_count": 3,
   "id": "0414f038",
   "metadata": {},
   "outputs": [],
   "source": [
    "#import requests"
   ]
  },
  {
   "cell_type": "code",
   "execution_count": 4,
   "id": "2734fd82",
   "metadata": {},
   "outputs": [
    {
     "name": "stdout",
     "output_type": "stream",
     "text": [
      "{'coord': {'lon': 77.2167, 'lat': 28.6667}, 'weather': [{'id': 721, 'main': 'Haze', 'description': 'haze', 'icon': '50n'}], 'base': 'stations', 'main': {'temp': 303.2, 'feels_like': 309.32, 'temp_min': 303.2, 'temp_max': 303.2, 'pressure': 1006, 'humidity': 74}, 'visibility': 3500, 'wind': {'speed': 0, 'deg': 0}, 'clouds': {'all': 40}, 'dt': 1663517619, 'sys': {'type': 1, 'id': 9165, 'country': 'IN', 'sunrise': 1663461444, 'sunset': 1663505617}, 'timezone': 19800, 'id': 1273294, 'name': 'Delhi', 'cod': 200}\n",
      "{'coord': {'lon': 75.5167, 'lat': 32.3667}, 'weather': [{'id': 800, 'main': 'Clear', 'description': 'clear sky', 'icon': '01n'}], 'base': 'stations', 'main': {'temp': 298.22, 'feels_like': 298.69, 'temp_min': 298.22, 'temp_max': 298.22, 'pressure': 1006, 'humidity': 73, 'sea_level': 1006, 'grnd_level': 970}, 'visibility': 10000, 'wind': {'speed': 1.67, 'deg': 17, 'gust': 1.61}, 'clouds': {'all': 0}, 'dt': 1663517838, 'sys': {'country': 'IN', 'sunrise': 1663461802, 'sunset': 1663506075}, 'timezone': 19800, 'id': 1267486, 'name': 'Kathua', 'cod': 200}\n"
     ]
    }
   ],
   "source": [
    "from tkinter import *\n",
    "\n",
    "from geopy.geocoders import Nominatim\n",
    "from tkinter import ttk,messagebox\n",
    "\n",
    "from timezonefinder import TimezoneFinder\n",
    "from datetime import datetime\n",
    "\n",
    "import requests\n",
    "import pytz\n",
    "\n",
    "#creating GUI Background\n",
    "\n",
    "root=Tk()\n",
    "root.title(\"Weather App\")\n",
    "root.geometry(\"1000x600+250+100\")\n",
    "root.resizable(False,False)\n",
    "root.config(background=\"#75bacf\")\n",
    "\n",
    "def getWeather():\n",
    "    try:\n",
    "        city=textfield.get()\n",
    "        \n",
    "        geolocator=Nominatim(user_agent='geoapiExercises')\n",
    "        location=geolocator.geocode(city)\n",
    "        obj=TimezoneFinder()\n",
    "        result=obj.timezone_at(lng=location.longitude, lat=location.latitude)\n",
    "        \n",
    "        home=pytz.timezone(result)\n",
    "        local_time=datetime.now(home)\n",
    "        current_time=local_time.strftime('%I:%M %p')\n",
    "        clock.config(text=current_time)\n",
    "        name.config(text='Current Time :')\n",
    "        #json_data=requests.get(api).json()\n",
    "        \n",
    "        api='https://api.openweathermap.org/data/2.5/weather?q='+city+'&appid=61645d473b55bc5d9cb51e75ed03bf7c'\n",
    "        json_data=requests.get(api).json()\n",
    "        print(json_data)\n",
    "        condition=json_data['weather'][0]['main']\n",
    "        description=json_data['weather'][0]['description']\n",
    "        temp=int(json_data['main']['temp']-273.15)\n",
    "        pressure=json_data['main']['pressure']\n",
    "        humidity=json_data['main']['humidity']\n",
    "        wind=json_data['wind']['speed']\n",
    "        \n",
    "        t.config(text=(temp,'°C'))\n",
    "        d.config(text=(condition,'|',  'FEELS',\"LIKE\",temp,\"°C\"))\n",
    "        w.config(text=(wind,'m/sec'))\n",
    "        h.config(text=(humidity,'%'))\n",
    "        p.config(text=(pressure,'hPa'))\n",
    "        \n",
    "    except Exception as e:\n",
    "        messagebox.showerror('Weather App', 'Invalid Entry!!!')\n",
    "        \n",
    "        \n",
    "#adding search bar image\n",
    "Search_image=PhotoImage(file='search_icon.png')\n",
    "myimage2=Label(image=Search_image,bg='#75bacf')\n",
    "myimage2. place(x=35,y=40)\n",
    "\n",
    "#adding entryfield for gettting city/country\n",
    "textfield=Entry(root, justify=\"center\" ,width=17, font=(\"poppins\",25,\"bold\"),  border=0, fg='#056c93',bg='#f6c517')\n",
    "textfield. place(x=70,y=48)\n",
    "textfield. focus()\n",
    "\n",
    "#weather image\n",
    "Logo_image=PhotoImage(file='weather.png')\n",
    "logo=Label(image=Logo_image,bg='#75bcaf')\n",
    "logo.place(x=60,y=230)\n",
    "\n",
    "#temp icon\n",
    "temp_bg=PhotoImage(file='temp_bg.png')\n",
    "temp_icon=Label(image=temp_bg,bg='#75bcaf')\n",
    "temp_icon. place(x=450,y=180)\n",
    "\n",
    "#humidity icon\n",
    "humidity_bg=PhotoImage(file='humidity_bg.png')\n",
    "humidity_icon=Label(image=humidity_bg,bg='#75bcaf')\n",
    "humidity_icon. place(x=730,y=180)\n",
    "\n",
    "#wind icon\n",
    "wind_bg=PhotoImage(file='wind_bg.png')\n",
    "wind_icon=Label(image=wind_bg,bg='#75bcaf')\n",
    "wind_icon. place(x=450,y=380)\n",
    "\n",
    "#atmospheric pressure icon\n",
    "pressure_bg=PhotoImage(file='pressure_bg.png')\n",
    "pressure_icon=Label(image=pressure_bg,bg='#75bcaf')\n",
    "pressure_icon. place(x=730,y=380)\n",
    "\n",
    "#adding Label for displaying values\n",
    "label1=Label (root, text=\"Temperature\",font=(\"Helvetica\",15, 'bold'),fg=\"#056c93\", bg=\"#75bcaf\")\n",
    "label1.place(x=430,y=260)\n",
    "\n",
    "label2=Label(root, text=\"Humidity\",font=(\"Helvetica\",15, 'bold'),fg=\"#056c93\", bg=\"#75bcaf\")\n",
    "label2.place(x=725,y=260)\n",
    "\n",
    "label3=Label (root, text=\"Wind Speed\",font=(\"Helvetica\",15, 'bold'),fg=\"#056c93\", bg=\"#75bcaf\")\n",
    "label3.place(x=430,y=460)\n",
    "\n",
    "label4=Label(root, text=\"Pressure\",font=(\"Helvetica\",15, 'bold'),fg=\"#056c93\", bg=\"#75bcaf\")\n",
    "label4.place(x=725,y=460)\n",
    "\n",
    "d=Label(font=(\"arial\",20,\"bold\") ,fg='#056c93', bg=\"#75bcaf\")\n",
    "d.place(x=50, y=520)\n",
    "\n",
    "\n",
    "t=Label(text=\"...\",font=(\"arial\",20,\"bold\") ,fg=\"#056c93\", bg=\"#75bcaf\")\n",
    "t.place(x=540, y=200)\n",
    "h=Label(text=\"...\",font=(\"arial\",20,\"bold\") ,fg=\"#056c93\", bg=\"#75bcaf\")\n",
    "h.place(x=820, y=200)\n",
    "w=Label(text=\"...\",font=(\"arial\",20,\"bold\") ,fg=\"#056c93\", bg=\"#75bcaf\")\n",
    "w.place(x=540, y=400)\n",
    "p=Label(text=\"...\",font=(\"arial\",20,\"bold\") ,fg=\"#056c93\", bg=\"#75bcaf\")\n",
    "p.place(x=820, y=400)\n",
    "\n",
    "#time label\n",
    "name=Label(root,font=('arial',20,'bold'),fg='#056c93', bg='#75bcaf')\n",
    "name.place(x=50,y=120)\n",
    "clock=Label(root,font=('arial',20,'bold'),fg='#056c93', bg='#75bcaf')\n",
    "clock.place(x=60,y=150)\n",
    "\n",
    "\n",
    "#adding search button\n",
    "Search_icon=PhotoImage(file='search_symbol.png')\n",
    "myimage_icon=Button(image=Search_icon, borderwidth=0, cursor=\"hand2\",bg='#f6c517',command=getWeather)\n",
    "myimage_icon.place(x=450,y=46)\n",
    "\n",
    "\n",
    "root.mainloop()\n"
   ]
  },
  {
   "cell_type": "code",
   "execution_count": 4,
   "id": "5a10dbde",
   "metadata": {},
   "outputs": [
    {
     "ename": "KeyboardInterrupt",
     "evalue": "Interrupted by user",
     "output_type": "error",
     "traceback": [
      "\u001b[1;31m---------------------------------------------------------------------------\u001b[0m",
      "\u001b[1;31mKeyboardInterrupt\u001b[0m                         Traceback (most recent call last)",
      "Input \u001b[1;32mIn [4]\u001b[0m, in \u001b[0;36m<cell line: 8>\u001b[1;34m()\u001b[0m\n\u001b[0;32m      3\u001b[0m \u001b[38;5;28;01mfrom\u001b[39;00m \u001b[38;5;21;01mdatetime\u001b[39;00m \u001b[38;5;28;01mimport\u001b[39;00m datetime\n\u001b[0;32m      6\u001b[0m \u001b[38;5;28;01mimport\u001b[39;00m \u001b[38;5;21;01mpytz\u001b[39;00m\n\u001b[1;32m----> 8\u001b[0m city\u001b[38;5;241m=\u001b[39m\u001b[38;5;28;43minput\u001b[39;49m\u001b[43m(\u001b[49m\u001b[43m)\u001b[49m\n\u001b[0;32m     10\u001b[0m geolocator\u001b[38;5;241m=\u001b[39mNominatim(user_agent\u001b[38;5;241m=\u001b[39m\u001b[38;5;124m'\u001b[39m\u001b[38;5;124mgeoapiExercises\u001b[39m\u001b[38;5;124m'\u001b[39m)\n\u001b[0;32m     11\u001b[0m location\u001b[38;5;241m=\u001b[39mgeolocator\u001b[38;5;241m.\u001b[39mgeocode(city)\n",
      "File \u001b[1;32m~\\anaconda3\\lib\\site-packages\\ipykernel\\kernelbase.py:1075\u001b[0m, in \u001b[0;36mKernel.raw_input\u001b[1;34m(self, prompt)\u001b[0m\n\u001b[0;32m   1071\u001b[0m \u001b[38;5;28;01mif\u001b[39;00m \u001b[38;5;129;01mnot\u001b[39;00m \u001b[38;5;28mself\u001b[39m\u001b[38;5;241m.\u001b[39m_allow_stdin:\n\u001b[0;32m   1072\u001b[0m     \u001b[38;5;28;01mraise\u001b[39;00m StdinNotImplementedError(\n\u001b[0;32m   1073\u001b[0m         \u001b[38;5;124m\"\u001b[39m\u001b[38;5;124mraw_input was called, but this frontend does not support input requests.\u001b[39m\u001b[38;5;124m\"\u001b[39m\n\u001b[0;32m   1074\u001b[0m     )\n\u001b[1;32m-> 1075\u001b[0m \u001b[38;5;28;01mreturn\u001b[39;00m \u001b[38;5;28;43mself\u001b[39;49m\u001b[38;5;241;43m.\u001b[39;49m\u001b[43m_input_request\u001b[49m\u001b[43m(\u001b[49m\n\u001b[0;32m   1076\u001b[0m \u001b[43m    \u001b[49m\u001b[38;5;28;43mstr\u001b[39;49m\u001b[43m(\u001b[49m\u001b[43mprompt\u001b[49m\u001b[43m)\u001b[49m\u001b[43m,\u001b[49m\n\u001b[0;32m   1077\u001b[0m \u001b[43m    \u001b[49m\u001b[38;5;28;43mself\u001b[39;49m\u001b[38;5;241;43m.\u001b[39;49m\u001b[43m_parent_ident\u001b[49m\u001b[43m[\u001b[49m\u001b[38;5;124;43m\"\u001b[39;49m\u001b[38;5;124;43mshell\u001b[39;49m\u001b[38;5;124;43m\"\u001b[39;49m\u001b[43m]\u001b[49m\u001b[43m,\u001b[49m\n\u001b[0;32m   1078\u001b[0m \u001b[43m    \u001b[49m\u001b[38;5;28;43mself\u001b[39;49m\u001b[38;5;241;43m.\u001b[39;49m\u001b[43mget_parent\u001b[49m\u001b[43m(\u001b[49m\u001b[38;5;124;43m\"\u001b[39;49m\u001b[38;5;124;43mshell\u001b[39;49m\u001b[38;5;124;43m\"\u001b[39;49m\u001b[43m)\u001b[49m\u001b[43m,\u001b[49m\n\u001b[0;32m   1079\u001b[0m \u001b[43m    \u001b[49m\u001b[43mpassword\u001b[49m\u001b[38;5;241;43m=\u001b[39;49m\u001b[38;5;28;43;01mFalse\u001b[39;49;00m\u001b[43m,\u001b[49m\n\u001b[0;32m   1080\u001b[0m \u001b[43m\u001b[49m\u001b[43m)\u001b[49m\n",
      "File \u001b[1;32m~\\anaconda3\\lib\\site-packages\\ipykernel\\kernelbase.py:1120\u001b[0m, in \u001b[0;36mKernel._input_request\u001b[1;34m(self, prompt, ident, parent, password)\u001b[0m\n\u001b[0;32m   1117\u001b[0m             \u001b[38;5;28;01mbreak\u001b[39;00m\n\u001b[0;32m   1118\u001b[0m \u001b[38;5;28;01mexcept\u001b[39;00m \u001b[38;5;167;01mKeyboardInterrupt\u001b[39;00m:\n\u001b[0;32m   1119\u001b[0m     \u001b[38;5;66;03m# re-raise KeyboardInterrupt, to truncate traceback\u001b[39;00m\n\u001b[1;32m-> 1120\u001b[0m     \u001b[38;5;28;01mraise\u001b[39;00m \u001b[38;5;167;01mKeyboardInterrupt\u001b[39;00m(\u001b[38;5;124m\"\u001b[39m\u001b[38;5;124mInterrupted by user\u001b[39m\u001b[38;5;124m\"\u001b[39m) \u001b[38;5;28;01mfrom\u001b[39;00m \u001b[38;5;28mNone\u001b[39m\n\u001b[0;32m   1121\u001b[0m \u001b[38;5;28;01mexcept\u001b[39;00m \u001b[38;5;167;01mException\u001b[39;00m:\n\u001b[0;32m   1122\u001b[0m     \u001b[38;5;28mself\u001b[39m\u001b[38;5;241m.\u001b[39mlog\u001b[38;5;241m.\u001b[39mwarning(\u001b[38;5;124m\"\u001b[39m\u001b[38;5;124mInvalid Message:\u001b[39m\u001b[38;5;124m\"\u001b[39m, exc_info\u001b[38;5;241m=\u001b[39m\u001b[38;5;28;01mTrue\u001b[39;00m)\n",
      "\u001b[1;31mKeyboardInterrupt\u001b[0m: Interrupted by user"
     ]
    }
   ],
   "source": [
    "\n",
    "from geopy.geocoders import Nominatim\n",
    "from timezonefinder import TimezoneFinder\n",
    "from datetime import datetime\n",
    "\n",
    "\n",
    "import pytz\n",
    "\n",
    "city=input()\n",
    "        \n",
    "geolocator=Nominatim(user_agent='geoapiExercises')\n",
    "location=geolocator.geocode(city)\n",
    "print(type(location))\n",
    "obj=TimezoneFinder()\n",
    "result=obj.timezone_at(lng=location.longitude, lat=location.latitude)\n",
    "print(result)        "
   ]
  },
  {
   "cell_type": "code",
   "execution_count": 7,
   "id": "d4aa4d86",
   "metadata": {},
   "outputs": [
    {
     "name": "stdout",
     "output_type": "stream",
     "text": [
      "2022-09-10 21:00:03.477128+01:00\n"
     ]
    }
   ],
   "source": [
    "import pytz\n",
    "home=pytz.timezone(result)\n",
    "local_time=datetime.now(home)\n",
    "current_time=local_time.strftime('%I:%M %p')\n",
    "\n",
    "print(local_time)"
   ]
  },
  {
   "cell_type": "code",
   "execution_count": null,
   "id": "833e112d",
   "metadata": {},
   "outputs": [],
   "source": []
  }
 ],
 "metadata": {
  "kernelspec": {
   "display_name": "Python 3 (ipykernel)",
   "language": "python",
   "name": "python3"
  },
  "language_info": {
   "codemirror_mode": {
    "name": "ipython",
    "version": 3
   },
   "file_extension": ".py",
   "mimetype": "text/x-python",
   "name": "python",
   "nbconvert_exporter": "python",
   "pygments_lexer": "ipython3",
   "version": "3.9.12"
  }
 },
 "nbformat": 4,
 "nbformat_minor": 5
}
